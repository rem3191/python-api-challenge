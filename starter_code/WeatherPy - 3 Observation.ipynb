{
 "metadata": {
  "language_info": {
   "codemirror_mode": {
    "name": "ipython",
    "version": 3
   },
   "file_extension": ".py",
   "mimetype": "text/x-python",
   "name": "python",
   "nbconvert_exporter": "python",
   "pygments_lexer": "ipython3",
   "version": 3
  },
  "orig_nbformat": 2
 },
 "nbformat": 4,
 "nbformat_minor": 2,
 "cells": [
  {
   "cell_type": "code",
   "execution_count": null,
   "metadata": {},
   "outputs": [],
   "source": [
    "#1.There is a very strong correlation between the Maximum Temperature and Latitude,in both the North and South Hemisphere. There is a steady fluctuation in the Max. Temp for cities located across both hemisphere.\n",
    "\n",
    "#2. Stronger winds are most frequent in the Northern Hemisphere, some as high as 30 mph in some cities\n",
    "\n",
    "#3.Cloudiness does not appear to have any kind of correlation with latitude in any cities within the North or South Hemisphere."
   ]
  }
 ]
}